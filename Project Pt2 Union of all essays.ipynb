{
  "nbformat": 4,
  "nbformat_minor": 0,
  "metadata": {
    "colab": {
      "provenance": [],
      "collapsed_sections": [
        "j1ZlDtSRTdVU",
        "4EWJeMw0Tj92",
        "lWyr1D3kUH9y",
        "Eb3R30A_UOsb",
        "whN_u8FlURoS",
        "7MWhH363UTYn"
      ]
    },
    "kernelspec": {
      "name": "python3",
      "display_name": "Python 3"
    },
    "language_info": {
      "name": "python"
    }
  },
  "cells": [
    {
      "cell_type": "markdown",
      "source": [
        "#Essays Scores 12, 10, 8, 6, 4, and 2"
      ],
      "metadata": {
        "id": "aDq3Pk04TH3i"
      }
    },
    {
      "cell_type": "markdown",
      "source": [
        "## Three essays with a score of 12"
      ],
      "metadata": {
        "id": "j1ZlDtSRTdVU"
      }
    },
    {
      "cell_type": "code",
      "execution_count": 48,
      "metadata": {
        "colab": {
          "base_uri": "https://localhost:8080/"
        },
        "id": "KTaGCdj1T3kl",
        "outputId": "2ba68373-0a90-4edc-bbff-076c7bb3a12e"
      },
      "outputs": [
        {
          "output_type": "stream",
          "name": "stdout",
          "text": [
            "Overwriting d1.txt\n"
          ]
        }
      ],
      "source": [
        "%%writefile d1.txt\n",
        "Dear @ORGANIZATION1, The computer blinked to life and an image of a blonde haired girl filled the screen. It was easy to find out how life was in @LOCATION2, thanks to the actual @CAPS1 girl explaining it. Going to the library wouldn't have filled one with this priceless information and human interection. Computers are a nessessity of life if soceity wishes to grow and expand. They should be supported because they teach hand eye coordination, give people the ability to learn about faraway places, and allow people to talk to others online. Firstly, computers help teach hand eye coordination. Hand-eye coordination is a useful ability that is usod to excel in sports. In a recent survey, @PERCENT1 of kids felt their hand eye coordination improves after computer use. Even a simple thing like tying can build up this skill. Famous neurologist @CAPS2 @PERSON1 stated in an article last week that, \"@CAPS3 and computer strength the @CAPS2. When on the computer, you automatically process what the eyes see into a command for your hands.\" @CAPS4 hand eye coordination can improve people in sports such as baseball and basketball. If someone wan't to become better in these sports, all they'd need to do was turn on the computer. Once people become better at sports, they're more likely to play them and become more healthy. In reality, computers can help with exercising instead of decreasing it. Additionaly, computers allow people to access information about faraway places and people. If someone wanted to reasearch @LOCATION1, all they'd need to do was type in a search would be presented to them in it would link forever to search through countless things. Also, having the ability to learn about cultures can make peole peole and their cultures, they understand others something. Increase tolerance people are. Computers are a resourceful tool that they can help people in every different aspect of life. Lastly, computer and in technology can allow people to chat. Computer chat and video chat can help the all different nations. Bring on good terms places other than can help us understand story comes out about something that happend in @LOCATION3, people can just go on their computer and ask an actual @LOCATION3 citizen their take on the matter. Also, video chat and online conversation can cut down on expensive phone bills. No one wants to pay more than they have to in this economy. Another good point is that you can acess family members you scaresly visit. It can help you connect within your own family more. Oviously, computers are a useful aid in todays era. their advancements push the world foreward to a better place. Computers can help people because they help teach handeye coordination, give people the bility to learn about faraway places and people, and allow people to talk online with others. Think of a world with no computers or technologicall advancements. The world would be sectored and unified, contact between people scare, and information even. The internet is like thousands or librarys put together. Nobody would know much about other nations and news would travel slower. Is that the kind of palce you want people to live in?"
      ]
    },
    {
      "cell_type": "code",
      "source": [
        "%%writefile d2.txt\n",
        "Dear @ORGANIZATION1, @CAPS1 has been brought to my attention that some people feel that computers are bad for us. Some people say that they are a distraction to our physicaland mental health. Although I can see how some people would think this, I believe that computers are a good benifit to all society. I believe this because computers can help people learn, stay intach with friends or family that live faraway, and stay orginized. Sometimes people are on the computer, learning and they don't even know @CAPS1. Simply by visiting the @ORGANIZATION2 homepage, you automaticly see the news feeds of things happening around the world. Other times people go online diliberatly to learn. If someone is thinking about going to @LOCATION1 then they would probably go on the internet to learn about @CAPS1. Simply by searching equadore many choices will pop up you climate, sesonal weather, hotel options, and other farts. But thats not the only way people are learning on the internet. Now, many college students have the option of taking their lessons online. This is because some students like calm quietness or own house the distractions of sitting in class. Friends could be a big distraction in class, but how can you stay intouch with your friends if they moved away? I remember in second grade my bestfriend, @LOCATION2, move away. I was so sad. I badey ever talked to her, but then one day our parents set us up on a vidio chat! I felt like I was right their with her! This was great, and I though about how many people could use this to talk to relatives or friends. Another great way to stay intouch into friends and family is through e-mail. By writing a message and sending @CAPS1 can make staying in touch so easey, and your personal wants can chat and emails are a easey thing to send world wide. So many people love to type on a keyboard as well, but so many different papers that you type could be lost. I, for me, hate clutter, and I have so many school binders for papers to be lost in. This is why I take great advantage of typing my paper every chance I get. My computer keeps me orginiced because I could never loose my work. File save, is an idiot proof way to keep all your files in a safe place. Then all you have to do is press print to get a hard copy. I am sure that many people love using their computer for the same reason. Also, I myself am a much faster typer than I am writer so my work is a lot needey on the computer. As you can see their are plenty of reasons why using a computer is goof for our society you can learn, stay intouch with friends and family, and stay orginiced. Many people, could agree with me. Don't you?"
      ],
      "metadata": {
        "colab": {
          "base_uri": "https://localhost:8080/"
        },
        "id": "ZWJIxPCXWx8i",
        "outputId": "8b1abdd4-9edf-4411-98be-363734cee855"
      },
      "execution_count": 49,
      "outputs": [
        {
          "output_type": "stream",
          "name": "stdout",
          "text": [
            "Overwriting d2.txt\n"
          ]
        }
      ]
    },
    {
      "cell_type": "code",
      "source": [
        "%%writefile d3.txt\n",
        "Dear @CAPS1 @CAPS2, @CAPS3 life without computers. There would be no quick access to information, no way to socialize, and no way to keep your health records or other personal information safe. Without this technology where would we be? I believe that the world is benefiting from the advances in technology today. As a student, computers are a crucial element to allow me to get my work done. without the guidance from @ORGANIZATION2 @CAPS7, @CAPS4 @CAPS5, or other applications, @CAPS6 woudn't be possible for me to reach my full potential a assignments. How could a student be so certain their grammar is perfect on their homework without asking a teacher? There is a way. It is called @ORGANIZATION2 tools. However, the only way to access this is through a computer or @ORGANIZATION2 @CAPS7 @ORGANIZATION2 tools allows you to check your spelling, grammar, and punctuation with just a click of your mouse. Computers are an essential learning tool for school system today. Not only are computers used to educate, but they are helpful in the real world. Many business rely on the work of Computers entirely. In facts, @CAPS8 to @PERSON1 @CAPS9 @ORGANIZATION1, a local business \"@LOCATION1,\" In our job, we continuously we work with. this wouldn't be possible without the effort of our typist on the computer. \"@CAPS6 business and companies around the nation are relying on the advances in technology, why change anything? We should continue to progress in this groth @PERCENT1 of business in @LOCATION1 say they would have to close dawn @CAPS6 not for computers with so many business doing this, our economy would drop. This would not help. We all know computers and other technology are great sources of entertainments. What you @MONTH1 not now, however, is that they supply a great amount of knowledge to the average person. For example, lets say you finished watching a special on the discovery channel about @LOCATION2. You want to know more, so you pull out your iPod touch. All you have to do is log on to the internet and search \"@CAPS11 of @LOCATION3, @LOCATION2\" @CAPS12 seconds, you would have your information. People @MONTH1 not believe so, but it is true that you canlearn a great deal of information from various forms of technology. You can have all the resources you'll ever reed right at your fingertips. Computer supply so much more then just entertainment. All reasonable people would agree advances in technology are extremely helpul to the public. there is so much guidance for our daily lines through computers."
      ],
      "metadata": {
        "colab": {
          "base_uri": "https://localhost:8080/"
        },
        "id": "4XwFICJPW5ae",
        "outputId": "e0e4da60-398e-43b4-afb7-1cc11670e0a4"
      },
      "execution_count": 50,
      "outputs": [
        {
          "output_type": "stream",
          "name": "stdout",
          "text": [
            "Overwriting d3.txt\n"
          ]
        }
      ]
    },
    {
      "cell_type": "markdown",
      "source": [
        "## Three essays with score of 10"
      ],
      "metadata": {
        "id": "4EWJeMw0Tj92"
      }
    },
    {
      "cell_type": "code",
      "source": [
        "%%writefile d4.txt\n",
        "Dear Local Newspaper, @CAPS1 I have found that many experts say that computers do not benifit our society. In some cases this is true but in most cases studdies show that computers can help people. While nothing beats talking in person computers can get really close such examples are webcams or e-mail. @PERCENT1 of students who get good grades refer to reliable websites for reasearch or to help find good books. Also online catalouges or advertisments help the economy of stores worldwide. @CAPS2 people were not allowed to use computers most of the modern would not exist. @PERSON1 said that the best form of modern communication is the computer because of the ability to write, talk, or write back for much cheaper! Almost every single event i go to is planed on a computer by communication such as e-mail \"@CAPS2 a student ever needs homework because lam out sick or needs help studying for a test then contact their teacher through the best form of communication for them always e-mail. Even the post office uses computers to get letters and boxes to people. The president of the post office, @PERSON2 said \"@CAPS3 would be imposible to get mail to our coustmers @CAPS2 @CAPS3 were not for computers telling us where a zip code is or how heavy a box is.\" @CAPS4 that tell people what is happening around the world would not exist @CAPS2 @CAPS3 were not for the moder communication abilities that computer provid us. Because information can be commucated so quick. so can reasearch. When the country of @LOCATION2 took a pole @PERCENT2 of people used computer for any type of reasearch, of those @PERCENT3 were students currently in school and @PERCENT4 of them have good grades. When the same survey was taken in the @LOCATION1 @PERCENT5 of people used computers fore reasons and @PERCENT2 were students who had good grade @CAPS2 @CAPS3 were not posible for me to access documents in the @CAPS5 @CAPS6 online I probably would not have gotten an A+ on my @CAPS7 assignment! Could you amagine @CAPS2 suddenly your Newspaper reporters couldn't use the internet to work on their reports? The articles would probably be @NUM1 after the events occur. Most buissness, including the Newspaper, use the internet to advertise, shop, or read. The association of @ORGANIZATION1 reported that in @PERCENT1 of @ORGANIZATION1 used a website and of them @PERCENT5 were in good positions. The president of @CAPS8 @NUM2 imports said that they use an online catalouge because @CAPS3 is cheaper, but they can also promote that @CAPS3 is to save trees, or for the castomer's convinence. Small @ORGANIZATION1 can make websites to promote them selves and explain their star to potential coustomers. @PERSON3, the owner of @ORGANIZATION2's said that the internet saved her resturant. @CAPS2 @CAPS3 wer not for the internet @NUM3 more people would be jobless in @LOCATION3. In conclusion computer help everyday people and without them most convinences would not exist. They help communicate around the world. Computers help people reaserch subjects for school reports, and they make the current economy get better everyday. In moderation computers are the most useful tool out there."
      ],
      "metadata": {
        "colab": {
          "base_uri": "https://localhost:8080/"
        },
        "id": "HBVlLlNfUXjC",
        "outputId": "8ea3fc6e-159e-4e21-8db2-b62444e7f991"
      },
      "execution_count": 51,
      "outputs": [
        {
          "output_type": "stream",
          "name": "stdout",
          "text": [
            "Overwriting d4.txt\n"
          ]
        }
      ]
    },
    {
      "cell_type": "code",
      "source": [
        "%%writefile d5.txt\n",
        "Did you know that more and more people these days are depending on computers for their safety, natural education, and their social life? In my opinion, the increasing use of computers is not benefiting society. Initially, ones safety while using a computer is at risk. To begin, when someone is talking to another on a computer, they @MONTH1 never know who is at the other end of it. For example, @CAPS1 a small girl was playing a game on the computer and a person began talking to her, it could be a predator. She will never know unless they meet us somewhere. At this point, it maybe too late. Moreover, studies show that @PERCENT1 of people's information is more widely exposed in the last @NUM1 years due to the new chat websites. Such as myspace and facebook. In these websites, people share their information. With this, their safety is at risk. Finally, people should stop using computers as much as they are now, in order to keep their safety safe. Furthermore, enjoying nature is a must, in our world full of immense landscapes, wide waters, dense forests, and lush valleys. @CAPS1 you depend on your computer to teach you about the world, you should cease this use. One must actually be outside, experiencing the feel, the smell, and even the taste of nature. A recent study shows that people who actually went to the grand canyon could write a @NUM1 page essay on what they had learned. The people who didn't go and simply read information off their computer, could not write this much. Finally, society needs to back away from their computers, and stop into. Thirdly, a person's social life could be ruined from the use of computers for many reasons. One reasons for this could be that a person spends all their time on their computer instead of spending time with their family and friends. Sure, you can chat with people online, but that's nothing like chatting in person. There is no need to talk to a friend or family member online, when you could do it in person. Finally, @CAPS1 someone takes an embarrasing picture of you and puts it on their computer, it is there forever. Thus, you can lose friends, whether you're the person in the picture or the addict who put the picture on. With this, you can easily ruin your family/social life by using your computer too often. How would you feel @CAPS1 it was your fault that someone's safety is at risk? Wouldn't you rather enjoy nature in person instead of which it on your computer and not get the fall effect? Couldn't you talk to your friends and family in person rather than ignore them to use your computer? There are numerous ways in which the increasing rate of computer use does not benefit society. I encourage you to agree with me that computers can put one safety at risk decrease their education of nature and ruin their social life."
      ],
      "metadata": {
        "colab": {
          "base_uri": "https://localhost:8080/"
        },
        "id": "4K31M6fIV1ck",
        "outputId": "dab9aca8-f560-4aba-9170-ed169534445c"
      },
      "execution_count": 52,
      "outputs": [
        {
          "output_type": "stream",
          "name": "stdout",
          "text": [
            "Overwriting d5.txt\n"
          ]
        }
      ]
    },
    {
      "cell_type": "code",
      "source": [
        "%%writefile d6.txt\n",
        "@PERCENT1 of people agree that computers make life less complicated. I also agree with this. Using computers teaches hand-eye coordination, gives people the ability to learn about faraway places and people, and lets people talk online with other people. I think that these are all very important. Why wouldn't you want to have strong hand-eye coordination? I think this a very important skill. Computers help teach hand-eye coordination and they keep it strong. While you're looking at the screen your hand is moving the mouse where you want it to go. Good hand-eye coordination is used for a lot of things; mostly everything. If you play some sports like baseball, hand-eye is one of the most important elements. Why not make that stronger off of the feild? Also, hand-eye can be used to @ORGANIZATION1 while taking notes. Hand-eye is involved with almost everything you do. you can't have a poor hand-eye coordination or else you won't be able to function properly. @NUM1 out of @NUM2 doctors agree that hand-eye very important for healthy living. I love to travel, but I want to know about the place I'm going to before I get on the phone to go there.\" said @PERSON1, a science teacher at @ORGANIZATION1. He feels the way, I'm sure, a lot of people feel. They want to know about the place they are going to and they want it to be current. The computer has plenty information about a lot of different places in the world. Some books don't offer as much information or they need to be updated. Computers are also very good for learning about other cultures and traditions. No one wants to be ignorant right? People want to know what's going on in the world quick and easy. The computer does this. I remember when I was about @NUM2, our phone broke in our house. We couldn't go out and get one right away either. The only way we were able to communicate with our family and friends was by computer. The computer made it easier to e-mail everyone and tell them why we weren't answering our house phone. This happens more often than you think. People need to communicate through computer a lot. At work, if you need to talk to an employee or co-worker and you can't leave your desk, you can just e-mail the information to them. @NUM4 out of @NUM2 employees say that it is much faster and easier to e-mail information as opposed to talking them on the phone or in person. A lot of people agree that computer make life a lot easier. Computers teach hand-eye coordination and they let you communicate with other people. The most critical reason is that computers let people learn about faraway places and people. You can make a difference in the way people feel about computers. Write to your local newspaper. It's now or never!\""
      ],
      "metadata": {
        "colab": {
          "base_uri": "https://localhost:8080/"
        },
        "id": "Kf3zsYbZV_pH",
        "outputId": "d45c2624-11ba-46a6-e309-d6a8fabeb4cc"
      },
      "execution_count": 53,
      "outputs": [
        {
          "output_type": "stream",
          "name": "stdout",
          "text": [
            "Overwriting d6.txt\n"
          ]
        }
      ]
    },
    {
      "cell_type": "markdown",
      "source": [
        "## Three essays with score of 8"
      ],
      "metadata": {
        "id": "lWyr1D3kUH9y"
      }
    },
    {
      "cell_type": "code",
      "source": [
        "%%writefile d7.txt\n",
        "Dear @LOCATION1, I know having computers has a positive effect on people. The computers connect families, contain information which is great for peoples education, and are very conveint. Computors are a step into the future and we should take advantage of it. First off the internet or e-mail will help family members connect. My family, which lives @NUM1 hours away by car, love to talk with me by e-mail. This helps me connect with my family and is just another reason why we should have computors. Another reason that includes family is when the family is just sitting around and are calling everywhere just to find a board game, it would just be easier to go online to find it. This way it would be quick and easy to find that one board game. The last reason why a computer would help a family is if a family wants to get in to any kinds of activities and they need the number they could just go online. On the internet the family could find the numbers, the and some information about it. This way more and more families can do activities together. As one can see the computer is bringing more and more families together. An other reason why the computers are good for society is educations. With information at the tip of your fingers more and more people will want to learn. Now a days people try to find the out, but will all the tools on the computers mae people get the education. Secondly computers are another way to go to collage. If you arn't up to going to school/collage because your sick. You wouldn't have to miss anything because with a click of a button you will have the materials needed for what was missed. Lastly everyone knows that in @LOCATION2 most classrooms can't afford one computer. The children want computors so hard. If they were to get one it would change so much. They would be able to learn so much more than before. The children could lean about different countries far away. As a result computers would improve the way we learn. The last reason why computers are so helpful is convience. Now a say the world is crazy, so if we don't have to go out or talk to someone we won't. The computer will offer the ability to confrence will other people so that there would be communication between work parttners. With the ability to talk with another for work would make us a lighter nation. This is only one of the many reasons computers are very conviente, subssiquently computers are conviente because you could book flights, vacations, rentals, and much more. With a click of a button you should be going to @CAPS1 or a nice vacation."
      ],
      "metadata": {
        "colab": {
          "base_uri": "https://localhost:8080/"
        },
        "id": "dpQlnfIeWScL",
        "outputId": "04f702fb-ef77-4a6a-9c32-38d55325845f"
      },
      "execution_count": 54,
      "outputs": [
        {
          "output_type": "stream",
          "name": "stdout",
          "text": [
            "Overwriting d7.txt\n"
          ]
        }
      ]
    },
    {
      "cell_type": "code",
      "source": [
        "%%writefile d8.txt\n",
        "Dear @LOCATION1, I think that computers have a negative affect on us! How many people have acess to a camputer daily in america.. @NUM1 and how many people go on at least an hour a @NUM2. That means that @NUM3 people cant exercise are wasting many are have the posibility of physical @CAPS1 that sound good to you? Think of everything you done when you write a letter. I got up and got all the materials and sit back down. After In done writing have to put all the materials away and then put the letter in the mailbox and walk all the way back. Well this is what I had to do. Now think how you write an email sitdown and move your fingers. Do you see the difference? @CAPS2 instead of getting a good walk to your friends house to talk to you just in him/er. Did you know that you can literally but from on your computer. Instead of around with this that can add anything you your computer gives away information they information lead to that and then everthing you have wouldbe gone. All this so you can go online. Believe it or not, you can phisically get hurt for being on the computer, to long. @NUM4 thing is that when you at a computer @CAPS2 what happened to my grandpa is that when you are in a wood chair all day you can get ardthritis in your muscle @CAPS3 thing th."
      ],
      "metadata": {
        "colab": {
          "base_uri": "https://localhost:8080/"
        },
        "id": "OjC8EM22WSQ7",
        "outputId": "97cb4b72-3743-4254-9e2b-05b31bf34883"
      },
      "execution_count": 55,
      "outputs": [
        {
          "output_type": "stream",
          "name": "stdout",
          "text": [
            "Overwriting d8.txt\n"
          ]
        }
      ]
    },
    {
      "cell_type": "code",
      "source": [
        "%%writefile d9.txt\n",
        "Dear @LOCATION1, @CAPS1 people acknowledge the great advances that computers give us, but they also put us at @CAPS1 disadvantages. Computers have been known to help develop health issues. As people become more intune with the online world, they tend to interact with their family less. Don't forget the danger of online predators - they're deadly. @CAPS1 people who do nothing, but watch television are often refered to as cauch potatoes. Those who are glued to their computer screens are no better. It is stated by numerous of @LOCATION2's top doctors that too much time spent on the computer can cause damage to your health. Exercise is highly stressed by doctors around the globe and the only exercise a computer addict will be doing is typing up a storm. They can submerge themselves into obesity. This often causes depression as it begins to sink in. Addition itself is a serious health issue. I wouldn't be surprised if they add a computer wing to rehab centers sometime in the near future. These problems are slowly spreading and we must come together to abolish them! Family time is an treasured value, to the @CAPS2 people, but lately, computers are ruining this tradition. With so @CAPS1 people absorbed with online drama, friends, and even video games, family interaction is declining. People slowly remove themselves from reality and enter an alternate world of cyberspace. They @MONTH1 only emerge from their rooms to use the bathroom and eat, scarcely resting. This can cause great tension or sorrow in @CAPS1 families. Who can erase the horrifying stories of abduction from their memories? Online predators are highly dangerous and extremely clever. Your children could be talking to someone they believe is another teenager looking for a friend to console in when, really, they are a forty-year-old serial killer waiting to find the right time to attack. Studies show that one fourth of online users have had an encounter with a dangerous person."
      ],
      "metadata": {
        "colab": {
          "base_uri": "https://localhost:8080/"
        },
        "id": "a9Xh55JdWSCq",
        "outputId": "b31c4613-d1d6-4d2c-fa64-1efd6e8d86e3"
      },
      "execution_count": 56,
      "outputs": [
        {
          "output_type": "stream",
          "name": "stdout",
          "text": [
            "Overwriting d9.txt\n"
          ]
        }
      ]
    },
    {
      "cell_type": "markdown",
      "source": [
        "## Three essays with score of 6"
      ],
      "metadata": {
        "id": "Eb3R30A_UOsb"
      }
    },
    {
      "cell_type": "code",
      "source": [
        "%%writefile d10.txt\n",
        "Well computers can be a good or a bad thing. I don'@CAPS1 realy see @CAPS2 computers can be a bad thing for me. I also know @CAPS2 computers can or will help people all around the world. I think computers has positive effects on people like me. Computers teaches hand-eye coordination. It can help if you need to find out reasearch for a school project. You can create lots of things on computers like music, desiner @CAPS1-shirts, logos, banners and lots of other creative things. With computer you can look up available homes and apartments. You can even go online and fill out a job application and save trips to stores @CAPS2 cool is that!! Well im a regular person not rich not famous but computers provide lot of information people use today. Thats why I think that computers has a positive effects on people and you don'@CAPS1 have to be super smart to use one."
      ],
      "metadata": {
        "colab": {
          "base_uri": "https://localhost:8080/"
        },
        "id": "NoxWG93ZWafT",
        "outputId": "237b7548-6e55-430d-9e2d-235208bc200b"
      },
      "execution_count": 57,
      "outputs": [
        {
          "output_type": "stream",
          "name": "stdout",
          "text": [
            "Overwriting d10.txt\n"
          ]
        }
      ]
    },
    {
      "cell_type": "code",
      "source": [
        "%%writefile d11.txt\n",
        "Dear, @ORGANIZATION1 I think the effects that computers do on people are really positive. Computers can be used for all sorts of things. Examples like finding things out about history. People that changed the world and other information. Computers give the power for children to learn. For example, their are lots of websites that offer online tutoring or good ways to help you pass school. Other positive way is online dateing sites. You can meet new people and is a good way to make life even better. Popular sites like @CAPS1, @CAPS2, @CAPS3, and so on make a good way to keep in touch with friends from your past, or even make new ones. But the most that I think thats the best in my opinion is going to school online. Once your done with colloge and you are a nuse, for an example you can get a higher degree like a registered nurse then being a @ORGANIZATION2. I think computers has a positive effect on people."
      ],
      "metadata": {
        "colab": {
          "base_uri": "https://localhost:8080/"
        },
        "id": "JQCH1tJ6Wctx",
        "outputId": "8b090478-1116-4034-c18b-41dd645b00b5"
      },
      "execution_count": 58,
      "outputs": [
        {
          "output_type": "stream",
          "name": "stdout",
          "text": [
            "Overwriting d11.txt\n"
          ]
        }
      ]
    },
    {
      "cell_type": "code",
      "source": [
        "%%writefile d12.txt\n",
        "The effect of people using computers isn't anything bad couse you learn a lot from it. In some ways when you use the computer and you type, the typing exercises your fingers. Your fingers will get muscle and will teach you to remember where to type without looking down on the keyboard. People sometimes using computer is good because if your writing letters you don't have to use pencil you can just type it and print. The typing does all the work for you so you won't spend hours writing to someone. Computers are helpful to people for example, ir your researching about @CAPS1 or @LOCATION1 you can find almost all the information on the computer in a instant click. Computers save time and does a lot of work. Computers are helpful piece of technology and one of the best."
      ],
      "metadata": {
        "colab": {
          "base_uri": "https://localhost:8080/"
        },
        "id": "cvQBb0FIWehe",
        "outputId": "572dd2b5-ae9d-4aaf-c589-f5947692e171"
      },
      "execution_count": 59,
      "outputs": [
        {
          "output_type": "stream",
          "name": "stdout",
          "text": [
            "Overwriting d12.txt\n"
          ]
        }
      ]
    },
    {
      "cell_type": "markdown",
      "source": [
        "## Three essays with score of 4"
      ],
      "metadata": {
        "id": "whN_u8FlURoS"
      }
    },
    {
      "cell_type": "code",
      "source": [
        "%%writefile d13.txt\n",
        "Computers a good because you can get infermation, you can play games, you can get pictures, But when you on the computer you might find something or someone that is bad or is viris. If ther is a vris you might want shut off the computers so it does not get worse. The are websites for kids, like games, there are teen games, there are adult games. Also pictures are bad for kids because most of the time they lead to inapropreit pictures. You should only look up infermation that you need not things like wepons or knifes. Also there are differnt kinds of companies like @CAPS1&t @CAPS2. @CAPS2 is a good place to get computers @CAPS1 so is @CAPS1&t."
      ],
      "metadata": {
        "colab": {
          "base_uri": "https://localhost:8080/"
        },
        "id": "HUb5NoCtWiXZ",
        "outputId": "cc06f62b-4b30-492b-846c-8cc8986672b5"
      },
      "execution_count": 60,
      "outputs": [
        {
          "output_type": "stream",
          "name": "stdout",
          "text": [
            "Overwriting d13.txt\n"
          ]
        }
      ]
    },
    {
      "cell_type": "code",
      "source": [
        "%%writefile d14.txt\n",
        "Dear @CAPS1, I, agree that computers are benefits society. The computers have positive effect on people like hand-eye coordination. I helps you learn about other country religios, and other thing. You can communicate, meet other people, and chat tru computers. Another positive fact about computer is that you can find all the information you need and fast. In other words is that computer help a lot of people."
      ],
      "metadata": {
        "colab": {
          "base_uri": "https://localhost:8080/"
        },
        "id": "VyLSEZY3WiPg",
        "outputId": "f9504b83-4ad8-490b-81ab-3ca50facde93"
      },
      "execution_count": 61,
      "outputs": [
        {
          "output_type": "stream",
          "name": "stdout",
          "text": [
            "Overwriting d14.txt\n"
          ]
        }
      ]
    },
    {
      "cell_type": "code",
      "source": [
        "%%writefile d15.txt\n",
        "I agree with the newspaper, people are spending too much time on the computer and not exercising. everyone knows computers addictive. but people need to get out more. but people making it more addicting by creating things such as never ending games and its distracting people from there life, family, work and exercise."
      ],
      "metadata": {
        "colab": {
          "base_uri": "https://localhost:8080/"
        },
        "id": "mK_NXWXPWiIC",
        "outputId": "635829b2-ba51-44e9-c993-1f8c31729a9c"
      },
      "execution_count": 62,
      "outputs": [
        {
          "output_type": "stream",
          "name": "stdout",
          "text": [
            "Overwriting d15.txt\n"
          ]
        }
      ]
    },
    {
      "cell_type": "markdown",
      "source": [
        "## Three essays with score of 2"
      ],
      "metadata": {
        "id": "7MWhH363UTYn"
      }
    },
    {
      "cell_type": "code",
      "source": [
        "%%writefile d16.txt\n",
        "I think computers are good because you can talk to your friends and family on the computers. People needs computers to look for a job. Some people spend to much time on the computers then on homework people need to stop."
      ],
      "metadata": {
        "colab": {
          "base_uri": "https://localhost:8080/"
        },
        "id": "lUJXVJ8bWqKD",
        "outputId": "614da4cd-1939-4eb0-f62e-a2d36457e22b"
      },
      "execution_count": 63,
      "outputs": [
        {
          "output_type": "stream",
          "name": "stdout",
          "text": [
            "Overwriting d16.txt\n"
          ]
        }
      ]
    },
    {
      "cell_type": "code",
      "source": [
        "%%writefile d17.txt\n",
        "What compters stop you from doing is your homework in school. But when you do something on the computer your not soposes to do, you get stuck on a website you can't get off your screen. So what I'm trying to say is to don't stay on the computer than just @NUM1 min."
      ],
      "metadata": {
        "colab": {
          "base_uri": "https://localhost:8080/"
        },
        "id": "vpHZNl0IWp7H",
        "outputId": "67a9c926-7d82-446c-b620-b3b08e5dac68"
      },
      "execution_count": 64,
      "outputs": [
        {
          "output_type": "stream",
          "name": "stdout",
          "text": [
            "Overwriting d17.txt\n"
          ]
        }
      ]
    },
    {
      "cell_type": "code",
      "source": [
        "%%writefile d18.txt\n",
        "Computer can be used for anyting but sometimes people use it for illeagle things like music some music site are a illeagle and sometimes thing off the internet. People meet over the internet can be sometimes dangerous because some people lye about there age or put fake pictures of them."
      ],
      "metadata": {
        "colab": {
          "base_uri": "https://localhost:8080/"
        },
        "id": "R3NghTY2Wp10",
        "outputId": "af84c9d3-9d86-40bd-fba4-9dbcf1354de4"
      },
      "execution_count": 65,
      "outputs": [
        {
          "output_type": "stream",
          "name": "stdout",
          "text": [
            "Overwriting d18.txt\n"
          ]
        }
      ]
    },
    {
      "cell_type": "markdown",
      "source": [
        "#Libraries"
      ],
      "metadata": {
        "id": "mEK-bOgcmsbN"
      }
    },
    {
      "cell_type": "code",
      "source": [
        "!pip install nltk\n",
        "!pip install pyspellchecker"
      ],
      "metadata": {
        "colab": {
          "base_uri": "https://localhost:8080/"
        },
        "id": "Dnc1RY27mutG",
        "outputId": "fc6bcdb7-fdd4-4fb2-8ca8-578dc8f93703"
      },
      "execution_count": 66,
      "outputs": [
        {
          "output_type": "stream",
          "name": "stdout",
          "text": [
            "Requirement already satisfied: nltk in /usr/local/lib/python3.11/dist-packages (3.9.1)\n",
            "Requirement already satisfied: click in /usr/local/lib/python3.11/dist-packages (from nltk) (8.1.8)\n",
            "Requirement already satisfied: joblib in /usr/local/lib/python3.11/dist-packages (from nltk) (1.4.2)\n",
            "Requirement already satisfied: regex>=2021.8.3 in /usr/local/lib/python3.11/dist-packages (from nltk) (2024.11.6)\n",
            "Requirement already satisfied: tqdm in /usr/local/lib/python3.11/dist-packages (from nltk) (4.67.1)\n",
            "Requirement already satisfied: pyspellchecker in /usr/local/lib/python3.11/dist-packages (0.8.2)\n"
          ]
        }
      ]
    },
    {
      "cell_type": "code",
      "source": [
        "import re\n",
        "import pandas as pd\n",
        "from collections import Counter\n",
        "import nltk\n",
        "from nltk.tokenize import word_tokenize\n",
        "from nltk.corpus import stopwords\n",
        "from nltk.stem import WordNetLemmatizer\n",
        "from spellchecker import SpellChecker\n",
        "\n",
        "nltk.download('punkt')\n",
        "nltk.download('stopwords')\n",
        "nltk.download('punkt_tab') # Download punkt_tab resource\n",
        "nltk.download('wordnet')"
      ],
      "metadata": {
        "colab": {
          "base_uri": "https://localhost:8080/"
        },
        "id": "WI0g4W45m8hY",
        "outputId": "63f5efb5-6f16-4171-87f2-172d656c3201"
      },
      "execution_count": 67,
      "outputs": [
        {
          "output_type": "stream",
          "name": "stderr",
          "text": [
            "[nltk_data] Downloading package punkt to /root/nltk_data...\n",
            "[nltk_data]   Package punkt is already up-to-date!\n",
            "[nltk_data] Downloading package stopwords to /root/nltk_data...\n",
            "[nltk_data]   Package stopwords is already up-to-date!\n",
            "[nltk_data] Downloading package punkt_tab to /root/nltk_data...\n",
            "[nltk_data]   Package punkt_tab is already up-to-date!\n",
            "[nltk_data] Downloading package wordnet to /root/nltk_data...\n",
            "[nltk_data]   Package wordnet is already up-to-date!\n"
          ]
        },
        {
          "output_type": "execute_result",
          "data": {
            "text/plain": [
              "True"
            ]
          },
          "metadata": {},
          "execution_count": 67
        }
      ]
    },
    {
      "cell_type": "markdown",
      "source": [
        "# Screenshot Number 1: Essay Preparation"
      ],
      "metadata": {
        "id": "vsIc_EsHZPgN"
      }
    },
    {
      "cell_type": "code",
      "source": [
        "#Reads each file and turns it into a string\n",
        "def read_text_file(file):\n",
        "    with open(file, 'r') as f:\n",
        "        return f.read()"
      ],
      "metadata": {
        "id": "uCVXtGljpabm"
      },
      "execution_count": 68,
      "outputs": []
    },
    {
      "cell_type": "markdown",
      "source": [
        "# Screenshot Number 2: Remove Stopwords, Punctiation, Numbers, and Lower Case"
      ],
      "metadata": {
        "id": "pXOsCerqYcNO"
      }
    },
    {
      "source": [
        "#Remove Stopwords, Punctiation, Numbers, and Lower Case\n",
        "def preprocess_text(text):\n",
        "    stp = stopwords.words('english')\n",
        "    spellchk = SpellChecker()\n",
        "    lemm = WordNetLemmatizer()\n",
        "\n",
        "    text = text.lower() #Lowercase words\n",
        "    text = re.sub(r'\\d+', '', text)  # Remove numbers\n",
        "    text = re.sub(r'@\\w+', '', text) #Remove words that start with @\n",
        "    text = re.sub(r'[^a-zA-Z\\s]', '', text)  # Remove punctuation\n",
        "    text = ' '.join(text.split()) # Remove extra whitespace\n",
        "    myset = word_tokenize(text) #Break words down\n",
        "\n",
        "    # Keep original word if spellchecker returns None\n",
        "    myset = [spellchk.correction(word) or word for word in myset if word]\n",
        "\n",
        "    # Lemmatize words (I had an error that lemmatize could not process None after spellchk. Had to edit spell check so adding None is not necessary here)\n",
        "    myset = [lemm.lemmatize(word) for word in myset]\n",
        "\n",
        "    #Unlike the class activity, I did not actually created a set as it removes repeated terms and risks giving an inaccurate frequency value\n",
        "    myset = [word for word in myset if word not in stp] #read word for word and remove stopwords from myset (clean myset from stopwords)\n",
        "    return myset"
      ],
      "cell_type": "code",
      "metadata": {
        "id": "p1fTvalTPqs3"
      },
      "execution_count": 69,
      "outputs": []
    },
    {
      "cell_type": "code",
      "source": [
        "#Remove Stopwords, Punctiation, Numbers, and Lower Case\n",
        "#def preprocess_text(text):\n",
        "#    stp = stopwords.words('english')\n",
        "#    spellchk = SpellChecker()\n",
        "#    lemm = WordNetLemmatizer()\n",
        "\n",
        "#    text = text.lower() #Lowercase words\n",
        "#    text = re.sub(r'\\d+', '', text)  # Remove numbers\n",
        "#    text = re.sub(r'@\\w+', '', text) #Remove words that start with @\n",
        "#    text = re.sub(r'[^a-zA-Z\\s]', '', text)  # Remove punctuation\n",
        "#    myset = word_tokenize(text) #Break words down\n",
        "#    myset = [spellchk.correction(word) for word in myset if word] #Check spelling\n",
        "#    myset = [lemm.lemmatize(word) for word in myset if word is not None] #Lemmatize words\n",
        "#    #Unlike the class activity, I did not actually created a set as it removes repeated terms and risks giving an inaccurate frequency value\n",
        "#    myset = [word for word in myset if word not in stp] #read word for word and remove stopwords from myset (clean myset from stopwords)\n",
        "#    return myset"
      ],
      "metadata": {
        "id": "HdkcegwBQKDm"
      },
      "execution_count": 70,
      "outputs": []
    },
    {
      "cell_type": "markdown",
      "source": [
        "# Screenshot Number 3: Frequency Computation and Sort"
      ],
      "metadata": {
        "id": "UgaRWD6_Y45q"
      }
    },
    {
      "cell_type": "code",
      "source": [
        "#Get the frequency of each term from every word in the essay and sort\n",
        "def compute_term_frequencies(myset):\n",
        "    term_counts = Counter(myset) #List of every term paired with their frequency\n",
        "    sorted_list = sorted(term_counts.items()) #Sort terms alphabetically with their respective frequencies\n",
        "    return sorted_list"
      ],
      "metadata": {
        "id": "WdkiIk_LqCUL"
      },
      "execution_count": 71,
      "outputs": []
    },
    {
      "cell_type": "markdown",
      "source": [
        "# Screenshot Number 4: Python to Excel"
      ],
      "metadata": {
        "id": "24hldp3SatXa"
      }
    },
    {
      "cell_type": "code",
      "source": [
        "#Excel file with list of terms and their frequencies for every essay document\n",
        "def save_to_excel(term_list, file_name):\n",
        "    df = pd.DataFrame(term_list, columns=['Term', 'Frequency']) #for every document frequency\n",
        "    df.to_excel(f\"{file_name}.xlsx\", index=False)"
      ],
      "metadata": {
        "id": "qCtj9foAqLnD"
      },
      "execution_count": 72,
      "outputs": []
    },
    {
      "cell_type": "markdown",
      "source": [
        "#Main Function"
      ],
      "metadata": {
        "id": "pp7bsM9lq52p"
      }
    },
    {
      "cell_type": "code",
      "source": [
        "def main():\n",
        "\n",
        "    scores = [12] * 3 + [10] * 3 + [8] * 3 + [6] * 3 + [4] * 3 + [2] * 3 #Every three row of documents has a different score\n",
        "    dataset = []\n",
        "    all_terms = set()  # Store unique terms across all essays\n",
        "    term_frequencies_per_doc = {}  # Store term frequency data per document\n",
        "\n",
        "    #Process all 18 essay text documents (.txt)\n",
        "    for i in range(1, 19): #Increment i by one\n",
        "        f = f\"d{i}.txt\" #Process the 18 essays\n",
        "        y = read_text_file(f) #Read Textfile (.txt)\n",
        "        myset = preprocess_text(y) #Remove Stopwords, Punctiation, Numbers, and Lower Case\n",
        "        term_frequencies = compute_term_frequencies(myset) #Sort words alphabetically next to their frequencies in myset\n",
        "\n",
        "        # For every document save individual term frequencies dataset into excel files such as d1_freq, d2_freq, ..., d18_freq\n",
        "        save_to_excel(term_frequencies, f\"d{i}_freq\")\n",
        "\n",
        "  #Preparing for the final_dataset with Document filename, the score, and all the terms that appear with the number of times they appear in every essay\n",
        "\n",
        "        # Extract terms and frequencies\n",
        "        term_freq_dict = dict(term_frequencies)\n",
        "        all_terms.update(term_freq_dict.keys())  # Collect all unique terms paired with their list of frequency values\n",
        "        term_frequencies_per_doc[f\"d{i}\"] = term_freq_dict  # Store frequencies\n",
        "\n",
        "    # Collect terms in alphabetical order to make them easier to find\n",
        "    sorted_terms = sorted(all_terms)\n",
        "\n",
        "    # Build final_dataset where each row is an essay with its term frequencies\n",
        "    final_dataset = [] #begin matrix\n",
        "    for i in range(1, 19):\n",
        "        document_name = f\"d{i}\" #Create document_name to not edit the original essay\n",
        "        row = [document_name, scores[i - 1]] #Start first two columns, each row will be an essay paired with their respective score\n",
        "\n",
        "        # Pair term frequencies to their document (row).\n",
        "        #Extract the terms from each essay. Obtain the frequency of the term in the essay by adding their frequencies. If term does not exist in that doc it will have a zero from the list of all sorted terms\n",
        "        row += [term_frequencies_per_doc[document_name].get(term, 0) for term in sorted_terms]\n",
        "\n",
        "        final_dataset.append(row)\n",
        "\n",
        "    # Name columns, document, score, and all the terms from all the essays\n",
        "    columns = [\"Document\", \"Score\"] + sorted_terms #Set headers\n",
        "    dataset_df = pd.DataFrame(final_dataset, columns=columns) #Finalize the matrix with headers\n",
        "\n",
        "    # Save final dataset to an Excel file and remove index column\n",
        "    dataset_df.to_excel(\"final_dataset.xlsx\", index=False)\n",
        "\n",
        "main() #Begin functions"
      ],
      "metadata": {
        "id": "s42pXZZZq891"
      },
      "execution_count": 73,
      "outputs": []
    }
  ]
}